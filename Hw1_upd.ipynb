{
 "cells": [
  {
   "cell_type": "code",
   "execution_count": 1,
   "metadata": {},
   "outputs": [],
   "source": [
    "import numpy as np"
   ]
  },
  {
   "cell_type": "code",
   "execution_count": 2,
   "metadata": {},
   "outputs": [
    {
     "name": "stdout",
     "output_type": "stream",
     "text": [
      "Вектор з першими 10 натуральними числами:\n",
      "[ 1  2  3  4  5  6  7  8  9 10]\n"
     ]
    }
   ],
   "source": [
    "vector1 = np.arange(1, 11)\n",
    "print(\"Вектор з першими 10 натуральними числами:\")\n",
    "print(vector1)"
   ]
  },
  {
   "cell_type": "code",
   "execution_count": 31,
   "metadata": {},
   "outputs": [
    {
     "name": "stdout",
     "output_type": "stream",
     "text": [
      "\n",
      "Матриця розміром 3x3 з нулями:\n",
      "[[0. 0. 0.]\n",
      " [0. 0. 0.]\n",
      " [0. 0. 0.]]\n"
     ]
    }
   ],
   "source": [
    "matrix1 = np.zeros((3, 3))\n",
    "print(\"\\nМатриця розміром 3x3 з нулями:\")\n",
    "print(matrix1)"
   ]
  },
  {
   "cell_type": "code",
   "execution_count": 4,
   "metadata": {},
   "outputs": [
    {
     "name": "stdout",
     "output_type": "stream",
     "text": [
      "\n",
      "Матриця розміром 5x5 з випадковими цілими числами від 1 до 10:\n",
      "[[ 7  3  3  2  6]\n",
      " [ 5  5  6  5 10]\n",
      " [ 9  6  8 10  5]\n",
      " [ 9  6  6  6  9]\n",
      " [ 5  6  3  4 10]]\n"
     ]
    }
   ],
   "source": [
    "matrix2 = np.random.randint(1, 11, (5, 5))\n",
    "print(\"\\nМатриця розміром 5x5 з випадковими цілими числами від 1 до 10:\")\n",
    "print(matrix2)"
   ]
  },
  {
   "cell_type": "code",
   "execution_count": 5,
   "metadata": {},
   "outputs": [
    {
     "name": "stdout",
     "output_type": "stream",
     "text": [
      "\n",
      "Матриця розміром 4x4 з випадковими дійсними числами від 0 до 1:\n",
      "[[0.27209387 0.75330987 0.36165532 0.2620343 ]\n",
      " [0.34218326 0.16446342 0.27241772 0.43588376]\n",
      " [0.44494096 0.16541144 0.20600716 0.72221942]\n",
      " [0.20250799 0.93536318 0.09310115 0.69920046]]\n"
     ]
    }
   ],
   "source": [
    "matrix3 = np.random.rand(4, 4)\n",
    "print(\"\\nМатриця розміром 4x4 з випадковими дійсними числами від 0 до 1:\")\n",
    "print(matrix3)"
   ]
  },
  {
   "cell_type": "code",
   "execution_count": 6,
   "metadata": {},
   "outputs": [
    {
     "name": "stdout",
     "output_type": "stream",
     "text": [
      "\n",
      "Поелементне додавання:\n",
      "[ 9 11  2 14 11]\n",
      "\n",
      "Поелементне віднімання:\n",
      "[-3  1  0  4 -1]\n",
      "\n",
      "Поелементне множення:\n",
      "[18 30  1 45 30]\n"
     ]
    }
   ],
   "source": [
    "vector2 = np.random.randint(1, 11, 5)\n",
    "vector3 = np.random.randint(1, 11, 5)\n",
    "addition_result = vector2 + vector3\n",
    "subtraction_result = vector2 - vector3\n",
    "multiplication_result = vector2 * vector3\n",
    "\n",
    "print(\"\\nПоелементне додавання:\")\n",
    "print(addition_result)\n",
    "print(\"\\nПоелементне віднімання:\")\n",
    "print(subtraction_result)\n",
    "print(\"\\nПоелементне множення:\")\n",
    "print(multiplication_result)"
   ]
  },
  {
   "cell_type": "code",
   "execution_count": 7,
   "metadata": {},
   "outputs": [
    {
     "name": "stdout",
     "output_type": "stream",
     "text": [
      "\n",
      "Скалярний добуток двох векторів:\n",
      "1.7840986074994094\n"
     ]
    }
   ],
   "source": [
    "vector4 = np.random.rand(7)\n",
    "vector5 = np.random.rand(7)\n",
    "scalar_product = np.dot(vector4, vector5)\n",
    "\n",
    "print(\"\\nСкалярний добуток двох векторів:\")\n",
    "print(scalar_product)"
   ]
  },
  {
   "cell_type": "code",
   "execution_count": 8,
   "metadata": {},
   "outputs": [
    {
     "name": "stdout",
     "output_type": "stream",
     "text": [
      "\n",
      "Помноження двох матриць:\n",
      "[[74 82 80]\n",
      " [14 34 29]]\n"
     ]
    }
   ],
   "source": [
    "matrix4 = np.random.randint(1, 11, (2, 2))\n",
    "matrix5 = np.random.randint(1, 11, (2, 3))\n",
    "matrix_product = np.dot(matrix4, matrix5)\n",
    "print(\"\\nПомноження двох матриць:\")\n",
    "print(matrix_product)"
   ]
  },
  {
   "cell_type": "code",
   "execution_count": 9,
   "metadata": {},
   "outputs": [
    {
     "name": "stdout",
     "output_type": "stream",
     "text": [
      "\n",
      "Обернена матриця:\n",
      "[[ 0.14516129 -0.22580645  0.16666667]\n",
      " [ 0.08064516  0.09677419 -0.16666667]\n",
      " [-0.11290323  0.06451613  0.16666667]]\n"
     ]
    }
   ],
   "source": [
    "matrix6 = np.random.randint(1, 11, (3, 3))\n",
    "\n",
    "try:\n",
    "    inverse_matrix = np.linalg.inv(matrix6)\n",
    "    print(\"\\nОбернена матриця:\")\n",
    "    print(inverse_matrix)\n",
    "except np.linalg.LinAlgError:\n",
    "    print(\"\\nОбернена матриця не існує.\")"
   ]
  },
  {
   "cell_type": "code",
   "execution_count": 29,
   "metadata": {},
   "outputs": [
    {
     "name": "stdout",
     "output_type": "stream",
     "text": [
      "\n",
      "Транспонована матриця:\n",
      "[[0.79217636 0.76153523 0.94204148 0.51277707]\n",
      " [0.06779322 0.90460825 0.63307771 0.24440455]\n",
      " [0.09259912 0.89599115 0.14707145 0.79000465]\n",
      " [0.69709959 0.40817913 0.15844902 0.63971866]]\n"
     ]
    }
   ],
   "source": [
    "matrix7 = np.random.rand(4, 4)\n",
    "transposed_matrix = np.transpose(matrix7)\n",
    "print(\"\\nТранспонована матриця:\")\n",
    "print(transposed_matrix)"
   ]
  },
  {
   "cell_type": "code",
   "execution_count": 11,
   "metadata": {},
   "outputs": [
    {
     "name": "stdout",
     "output_type": "stream",
     "text": [
      "\n",
      "Матриця, помножена на вектор:\n",
      "[156 146 109]\n"
     ]
    }
   ],
   "source": [
    "matrix8 = np.random.randint(1, 11, (3, 4))\n",
    "vector6 = np.random.randint(1, 11, 4)\n",
    "matrix_vector_product = np.dot(matrix8, vector6)\n",
    "print(\"\\nМатриця, помножена на вектор:\")\n",
    "print(matrix_vector_product)"
   ]
  },
  {
   "cell_type": "code",
   "execution_count": 12,
   "metadata": {},
   "outputs": [
    {
     "name": "stdout",
     "output_type": "stream",
     "text": [
      "\n",
      "Матриця, помножена на вектор:\n",
      "[0.70360894 1.04594113]\n"
     ]
    }
   ],
   "source": [
    "matrix9 = np.random.rand(2, 3)\n",
    "vector7 = np.random.rand(3)\n",
    "matrix_vector_product2 = np.dot(matrix9, vector7)\n",
    "print(\"\\nМатриця, помножена на вектор:\")\n",
    "print(matrix_vector_product2)"
   ]
  },
  {
   "cell_type": "code",
   "execution_count": 13,
   "metadata": {},
   "outputs": [
    {
     "name": "stdout",
     "output_type": "stream",
     "text": [
      "\n",
      "Поелементне множення двох матриць:\n",
      "[[60 21]\n",
      " [21  9]]\n"
     ]
    }
   ],
   "source": [
    "matrix10 = np.random.randint(1, 11, (2, 2))\n",
    "matrix11 = np.random.randint(1, 11, (2, 2))\n",
    "elementwise_product = matrix10 * matrix11\n",
    "print(\"\\nПоелементне множення двох матриць:\")\n",
    "print(elementwise_product)"
   ]
  },
  {
   "cell_type": "code",
   "execution_count": 14,
   "metadata": {},
   "outputs": [
    {
     "name": "stdout",
     "output_type": "stream",
     "text": [
      "\n",
      "Добуток двох матриць:\n",
      "[[84 69]\n",
      " [66 59]]\n"
     ]
    }
   ],
   "source": [
    "matrix12 = np.random.randint(1, 11, (2, 2))\n",
    "matrix13 = np.random.randint(1, 11, (2, 2))\n",
    "matrix_product2 = np.dot(matrix12, matrix13)\n",
    "print(\"\\nДобуток двох матриць:\")\n",
    "print(matrix_product2)"
   ]
  },
  {
   "cell_type": "code",
   "execution_count": 27,
   "metadata": {},
   "outputs": [
    {
     "name": "stdout",
     "output_type": "stream",
     "text": [
      "\n",
      "Сума елементів матриці:\n",
      "1146\n"
     ]
    }
   ],
   "source": [
    "matrix14 = np.random.randint(1, 101, (5, 5))\n",
    "sum_of_elements = np.sum(matrix14)\n",
    "print(\"\\nСума елементів матриці:\")\n",
    "print(sum_of_elements)"
   ]
  },
  {
   "cell_type": "code",
   "execution_count": 26,
   "metadata": {},
   "outputs": [
    {
     "name": "stdout",
     "output_type": "stream",
     "text": [
      "\n",
      "Різниця двох матриць:\n",
      "[[-5 -6 -2 -5]\n",
      " [ 3  8  8  2]\n",
      " [ 5 -3  1  8]\n",
      " [-1  4  1 -5]]\n"
     ]
    }
   ],
   "source": [
    "matrix15 = np.random.randint(1, 11, (4, 4))\n",
    "matrix16 = np.random.randint(1, 11, (4, 4))\n",
    "difference_matrix = matrix15 - matrix16\n",
    "print(\"\\nРізниця двох матриць:\")\n",
    "print(difference_matrix)\n"
   ]
  },
  {
   "cell_type": "code",
   "execution_count": 25,
   "metadata": {},
   "outputs": [
    {
     "name": "stdout",
     "output_type": "stream",
     "text": [
      "\n",
      "Вектор-стовпчик із сумами елементів кожного рядка:\n",
      "[1.23385236 1.33776957 0.81830727]\n"
     ]
    }
   ],
   "source": [
    "matrix17 = np.random.rand(3, 3)\n",
    "row_sums = np.sum(matrix17, axis=1)\n",
    "print(\"\\nВектор-стовпчик із сумами елементів кожного рядка:\")\n",
    "print(row_sums)"
   ]
  },
  {
   "cell_type": "code",
   "execution_count": 18,
   "metadata": {},
   "outputs": [
    {
     "name": "stdout",
     "output_type": "stream",
     "text": [
      "\n",
      "Матриця з квадратами чисел:\n",
      "[[ 49  81   9   1]\n",
      " [ 25 100   1   4]\n",
      " [ 36  36  16   4]]\n"
     ]
    }
   ],
   "source": [
    "matrix18 = np.random.randint(1, 11, (3, 4))\n",
    "squared_matrix = np.square(matrix18)\n",
    "print(\"\\nМатриця з квадратами чисел:\")\n",
    "print(squared_matrix)"
   ]
  },
  {
   "cell_type": "code",
   "execution_count": 24,
   "metadata": {},
   "outputs": [
    {
     "name": "stdout",
     "output_type": "stream",
     "text": [
      "\n",
      "Вектор з квадратними коренями чисел:\n",
      "[5.38516481 3.46410162 7.07106781 5.65685425]\n"
     ]
    }
   ],
   "source": [
    "vector8 = np.random.randint(1, 51, 4)\n",
    "sqrt_vector = np.sqrt(vector8)\n",
    "print(\"\\nВектор з квадратними коренями чисел:\")\n",
    "print(sqrt_vector)"
   ]
  }
 ],
 "metadata": {
  "kernelspec": {
   "display_name": "Python 3",
   "language": "python",
   "name": "python3"
  },
  "language_info": {
   "codemirror_mode": {
    "name": "ipython",
    "version": 3
   },
   "file_extension": ".py",
   "mimetype": "text/x-python",
   "name": "python",
   "nbconvert_exporter": "python",
   "pygments_lexer": "ipython3",
   "version": "3.11.5"
  }
 },
 "nbformat": 4,
 "nbformat_minor": 2
}
